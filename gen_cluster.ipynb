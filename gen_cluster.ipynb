{
 "cells": [
  {
   "cell_type": "code",
   "execution_count": null,
   "metadata": {},
   "outputs": [],
   "source": [
    "import os\n",
    "import time\n",
    "import sys\n",
    "import numpy as np\n",
    "from sklearn.cluster import KMeans\n",
    "from sklearn import metrics\n",
    "from scipy.spatial.distance import cdist\n",
    "import numpy as np\n",
    "import matplotlib.pyplot as plt\n",
    "from concorde.tsp import TSPSolver\n",
    "from math import sqrt"
   ]
  },
  {
   "cell_type": "code",
   "execution_count": null,
   "metadata": {},
   "outputs": [],
   "source": [
    "root_dir = os.getcwd()\n",
    "tsp_dir = os.path.join(root_dir, \"tsplib\")\n",
    "#concorde_dir = os.path.join(root_dir, \"pyconcorde/concorde\")"
   ]
  },
  {
   "cell_type": "code",
   "execution_count": null,
   "metadata": {},
   "outputs": [],
   "source": [
    "sys.path.insert(0, root_dir)\n",
    "sys.path.insert(0, tsp_dir)\n",
    "#sys.path.insert(0, concorde_dir)"
   ]
  },
  {
   "cell_type": "code",
   "execution_count": null,
   "metadata": {},
   "outputs": [],
   "source": [
    "num_samples = 10000"
   ]
  },
  {
   "cell_type": "code",
   "execution_count": null,
   "metadata": {},
   "outputs": [],
   "source": [
    "n_clusters = 20"
   ]
  },
  {
   "cell_type": "code",
   "execution_count": null,
   "metadata": {},
   "outputs": [],
   "source": [
    "def gen_tsp_data():\n",
    "    tsp_database = {}\n",
    "    cities = os.listdir(tsp_dir)\n",
    "    \n",
    "    for city in cities:\n",
    "        if city.endswith(\".tsp\"):\n",
    "            with open(tsp_dir + '/' + city, 'r') as infile:\n",
    "                lines = infile.readlines()\n",
    "                for i in range(0, len(lines)):\n",
    "                    line = lines[i]\n",
    "                    if \"DIMENSION\" in line:\n",
    "                        Dimension = line.strip().split(':')[1]\n",
    "                        if not Dimension.isdigit():\n",
    "                            continue\n",
    "                    if \"EDGE_WEIGHT_TYPE\" in line:\n",
    "                        EdgeWeightType = line.strip().split()[1]\n",
    "                        if EdgeWeightType != \"EUC_2D\":\n",
    "                            continue\n",
    "                    if \"NODE_COORD_SECTION\" in line:\n",
    "                        x_y = None\n",
    "                        nodelist_x = []\n",
    "                        nodelist_y = []\n",
    "        \n",
    "                        for j in range (1, int(Dimension)):\n",
    "                            x_y = lines[i+1].strip().split()[1:]\n",
    "    #                        print(x_y)\n",
    "    #                        import pdb; pdb.set_trace()\n",
    "                            x = x_y[0]\n",
    "                            y = x_y[1]\n",
    "                            nodelist_x.append(float(x))\n",
    "                            nodelist_y.append(float(y))\n",
    "                            i+=1\n",
    "                        tsp_database.update({city[:-4]:[nodelist_x, nodelist_y]})\n",
    "    return tsp_database    "
   ]
  },
  {
   "cell_type": "code",
   "execution_count": null,
   "metadata": {},
   "outputs": [],
   "source": [
    "tsp_database = gen_tsp_data()\n",
    "problem_list = tsp_database.keys()\n",
    "problem_list"
   ]
  },
  {
   "cell_type": "markdown",
   "metadata": {},
   "source": []
  },
  {
   "cell_type": "code",
   "execution_count": null,
   "metadata": {},
   "outputs": [],
   "source": []
  },
  {
   "cell_type": "code",
   "execution_count": null,
   "metadata": {},
   "outputs": [],
   "source": [
    "import pyproj as p\n",
    "x = \"rl5934\"\n",
    "n_clusters = 500\n",
    "coord_geo = False\n",
    "if coord_geo == True:\n",
    "     crs_wgs = p.Proj(init='epsg:4326')\n",
    "     crs_bng = p.Proj(init = 'epsg:27700')\n",
    "    \n",
    "     tsp_database[x][0],tsp_database[x][1]  = p.transform(crs_wgs, crs_bng, tsp_database[x][1], tsp_database[x][0])\n",
    "# for x in tsp_database:\n",
    "print(\"Problem : \" + x)\n",
    "#    print(tsp_database[x])\n",
    "X_coord = np.array(tsp_database[x][0])\n",
    "Y_coord = np.array(tsp_database[x][1])\n",
    "X_Y = np.array(list(zip(X_coord,Y_coord))).reshape(len(X_coord),2)\n",
    "plt.plot()\n",
    "plt.title('Cities in ' + x)\n",
    "plt.scatter(X_coord, Y_coord)\n",
    "plt.show()\n"
   ]
  },
  {
   "cell_type": "code",
   "execution_count": null,
   "metadata": {},
   "outputs": [],
   "source": []
  },
  {
   "cell_type": "markdown",
   "metadata": {},
   "source": [
    "lt.plot()<br>\n",
    "lt.title('Cities in ' + x)<br>\n",
    "lt.scatter(X_coord, Y_coord)<br>\n",
    "lt.show()"
   ]
  },
  {
   "cell_type": "code",
   "execution_count": null,
   "metadata": {},
   "outputs": [],
   "source": [
    "from numpy import inf\n",
    "X_Y[X_Y == inf] = 0\n",
    "\n"
   ]
  },
  {
   "cell_type": "code",
   "execution_count": null,
   "metadata": {},
   "outputs": [],
   "source": []
  },
  {
   "cell_type": "code",
   "execution_count": null,
   "metadata": {},
   "outputs": [],
   "source": [
    "\n"
   ]
  },
  {
   "cell_type": "code",
   "execution_count": null,
   "metadata": {},
   "outputs": [],
   "source": [
    "import time   \n",
    "tic = time.perf_counter()\n",
    "kmeanModel = KMeans(n_clusters, init='k-means++').fit(X_Y)\n",
    "toc = time.perf_counter()\n",
    "print(f\"time = {toc-tic:0.4f} seconds\")\n",
    "kmeanModel.fit(X_Y)\n",
    "y_kmeans = kmeanModel.predict(X_Y)\n",
    "plt.scatter(X_Y[:,0], X_Y[:,1], c=y_kmeans, s=50, cmap='viridis')\n",
    "centers = kmeanModel.cluster_centers_\n",
    "plt.scatter(centers[:,0], centers[:,1], c='black', s=200, alpha=0.5)\n",
    "plt.show()"
   ]
  },
  {
   "cell_type": "code",
   "execution_count": null,
   "metadata": {},
   "outputs": [],
   "source": [
    "def get_clustered_cities(num_clust, labels_array):\n",
    "    return np.where(labels_array == num_clust)"
   ]
  },
  {
   "cell_type": "code",
   "execution_count": null,
   "metadata": {},
   "outputs": [],
   "source": [
    "def plot_sys2_cities(sys2_cities):\n",
    "    for k in K:\n",
    "        plt.scatter(sys2_cities[k][:,0], sys2_cities[k][:,1])\n",
    "        plt.show()"
   ]
  },
  {
   "cell_type": "code",
   "execution_count": null,
   "metadata": {},
   "outputs": [],
   "source": [
    "sys2_cities = []\n",
    "K = range(0,n_clusters) \n",
    "for k in K:\n",
    "    sys2_cities.append([centers[k], X_Y[get_clustered_cities(k, kmeanModel.labels_)]])\n",
    "    \n",
    "for k in K:\n",
    "    if (len(sys2_cities[k][1]) == 1):\n",
    "        print(\"dirty cluster\")\n",
    "        "
   ]
  },
  {
   "cell_type": "code",
   "execution_count": null,
   "metadata": {},
   "outputs": [],
   "source": [
    "def gen_sys2_sol(benchmark, sys2_cities):\n",
    "    sol_table = []\n",
    "    timet =[]\n",
    "    os.system(\"rm -rf sys2clusters_\" + str(benchmark))   \n",
    "    for k in range(0, len(sys2_cities)):\n",
    "        curr_center = sys2_cities[k][0]\n",
    "        curr_clust = sys2_cities[k][1]\n",
    "        curr_clust_size = len(curr_clust)\n",
    "        curr_clust_file = [curr_clust_size]\n",
    "        curr_clust_file.append(curr_clust)\n",
    "        os.system(\"mkdir -p sys2clusters_\" + str(benchmark))   \n",
    "#        os.system(\"cd \" + \"sys2clusters_\" + str(benchmark) +\"/\")\n",
    "        curr_filename = str(benchmark) + \"_c\" + str(k) +\".in\"\n",
    "        curr_logfile = str(benchmark) + \"_c\" + str(k) +\".out\"\n",
    "#        print(\"sys2clusters_\" + str(benchmark) + \"/\" + curr_filename)\n",
    "        inF = open(\"sys2clusters_\" + str(benchmark) + \"/\" + curr_filename,\"w\")\n",
    "        inF.write(str(curr_clust_size))\n",
    "        inF.write(\"\\n\")\n",
    "        for i in curr_clust:\n",
    "            inF.write(str(i[0]) + \" \" + str(i[1]))\n",
    "            inF.write(\"\\n\")      \n",
    "        inF.close()\n",
    "        \n",
    "#        outF = open(\"sys2clusters_\" + str(benchmark) + \"/\" + curr_logfile,\"w\")\n",
    "        \n",
    "        for i in range(0,1):\n",
    "#            outF.write(\"pass \" + str(i+1) + \"\\n\")\n",
    "            tic = time.perf_counter()\n",
    "            os.system(\"./ising \" + \"sys2clusters_\" + str(benchmark) + \"/\" + curr_filename + \" >> \" + \"sys2clusters_\" + str(benchmark) + \"/\" + curr_logfile)\n",
    "            toc = time.perf_counter()\n",
    "            timet.append(toc-tic)\n",
    "        \n",
    "#             print(f\"time = {toc-tic:0.4f} seconds\")\n",
    "        dist_array =[]\n",
    "        sol =[]\n",
    "        with open(\"sys2clusters_\" + str(benchmark) + \"/\" + curr_logfile,\"r\") as outFile:\n",
    "            lines = outFile.readlines()\n",
    "            for i in range(0,len(lines)):\n",
    "                line = lines[i]\n",
    "                if \"dist\" in line:\n",
    "                    dist_array.append(line.strip().split()[1])\n",
    "                    continue\n",
    "            dist = min(dist_array)\n",
    "            for i in range(0,len(lines)):\n",
    "                line = lines[i]\n",
    "                if str(dist) in line:\n",
    "                    for j in range(i-curr_clust_size,i-1):\n",
    "                        curr = lines[j].strip().split()\n",
    "                        sol.append(curr)\n",
    "                    break\n",
    "            outFile.close()\n",
    "                    \n",
    "                    \n",
    "        print(\"done with cluster\" + str(k))            \n",
    "        sol_table.append([curr_center, sol, dist])\n",
    "    print(\"Ising time = \" + str(max(timet)))   \n",
    "    np.save(\"sys2clusters_\" + str(benchmark) + \"/sol_table\" ,sol_table)\n",
    "       "
   ]
  },
  {
   "cell_type": "markdown",
   "metadata": {},
   "source": []
  },
  {
   "cell_type": "code",
   "execution_count": null,
   "metadata": {},
   "outputs": [],
   "source": [
    "\n",
    "gen_sys2_sol(x, sys2_cities)   \n",
    "\n"
   ]
  },
  {
   "cell_type": "code",
   "execution_count": null,
   "metadata": {},
   "outputs": [],
   "source": [
    "from math import sin, cos, sqrt, atan2, radians\n",
    "def compute_geo(p1,p2):\n",
    "    R = 6373.0\n",
    "    \n",
    "    lat1 = radians(float(p1[0]))\n",
    "    lon1 = radians(float(p1[1]))\n",
    "    lat2 = radians(float(p2[0]))\n",
    "    lon2 = radians(float(p2[1]))\n",
    "    \n",
    "    dlon = lon2 - lon1\n",
    "    dlat = lat2 -lat1\n",
    "\n",
    "    a = sin(dlat/2)**2 + cos(lat1)*cos(lat2)*sin(dlon/2)**2\n",
    "    c = 2*atan2(sqrt(a),sqrt(1-a))\n",
    "    dist = R*c\n",
    "    return dist"
   ]
  },
  {
   "cell_type": "code",
   "execution_count": null,
   "metadata": {},
   "outputs": [],
   "source": [
    "test = np.load(\"sys2clusters_\" + str(x) + \"/sol_table.npy\", allow_pickle=True)\n",
    "test[0][2]"
   ]
  },
  {
   "cell_type": "code",
   "execution_count": null,
   "metadata": {},
   "outputs": [],
   "source": [
    "coord_geo == False\n",
    "if coord_geo == True:\n",
    "#     test = np.load(\"sys2clusters_\" + str(x) + \"/sol_table.npy\", allow_pickle=True)\n",
    "    for i in range(len(test)):\n",
    "        print(i)\n",
    "        geo_dist = 0\n",
    "        li = test[i][1]\n",
    "        for idx,elem in enumerate(li):\n",
    "            thiscity = elem\n",
    "            nextcity = li[(idx+1)%len(li)]\n",
    "            geo_dist += compute_geo(thiscity, nextcity)\n",
    "        test[i][2] = geo_dist \n",
    "        print(geo_dist)\n",
    "    np.save(\"sys2clusters_\" + str(x) + \"/sol_table\" ,test)    \n"
   ]
  },
  {
   "cell_type": "code",
   "execution_count": null,
   "metadata": {},
   "outputs": [],
   "source": []
  },
  {
   "cell_type": "code",
   "execution_count": null,
   "metadata": {},
   "outputs": [],
   "source": [
    "# os.system(\"python generate_tsp_concorde.py --num_nodes \" + str(n_clusters))    \n",
    "# os.system(\"python split_train_val.py --num_nodes \" + str(n_clusters))    \n",
    "    "
   ]
  },
  {
   "cell_type": "markdown",
   "metadata": {},
   "source": [
    "mport pdb; pdb.set_trace()     "
   ]
  },
  {
   "cell_type": "code",
   "execution_count": null,
   "metadata": {},
   "outputs": [],
   "source": [
    "n_clusters\n"
   ]
  },
  {
   "cell_type": "code",
   "execution_count": null,
   "metadata": {},
   "outputs": [],
   "source": [
    "num_samples = 10000\n",
    "set_nodes_coord = np.random.random([num_samples, n_clusters, 2])\n",
    "with open(\"tsp\" + str(n_clusters) + \"_pr1002.txt\", \"w\") as f:\n",
    "    solver = TSPSolver.from_data(centers[:,0], centers[:,1], norm=\"EUC_2D\")  \n",
    "    solution = solver.solve()\n",
    "    f.write( \" \".join( str(x)+str(\" \")+str(y) for x,y in centers) )\n",
    "    f.write( str(\" \") + str('output') + str(\" \") )\n",
    "    f.write( str(\" \").join( str(node_idx+1) for node_idx in solution.tour) )\n",
    "    f.write( str(\" \") + str(solution.tour[0]+1) + str(\" \") )"
   ]
  },
  {
   "cell_type": "code",
   "execution_count": null,
   "metadata": {},
   "outputs": [],
   "source": []
  }
 ],
 "metadata": {
  "kernelspec": {
   "display_name": "Python 3",
   "language": "python",
   "name": "python3"
  },
  "language_info": {
   "codemirror_mode": {
    "name": "ipython",
    "version": 3
   },
   "file_extension": ".py",
   "mimetype": "text/x-python",
   "name": "python",
   "nbconvert_exporter": "python",
   "pygments_lexer": "ipython3",
   "version": "3.8.3"
  }
 },
 "nbformat": 4,
 "nbformat_minor": 4
}
